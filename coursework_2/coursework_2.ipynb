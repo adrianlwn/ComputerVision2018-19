{
 "cells": [
  {
   "cell_type": "markdown",
   "metadata": {},
   "source": [
    "# Coursework 2: Neural Networks \n",
    "\n",
    "This coursework covers the topics covered in class regarding neural networks for image classification.\n",
    "\n",
    "This coursework includes both coding questions as well as written ones. Please upload the notebook, which contains your code, results and answers as a pdf file onto Cate.\n",
    "\n",
    "Dependencies: If you work on a college computer in the Computing Lab, where Ubuntu 18.04 is installed by default, you can use the following virtual environment for your work, where relevant Python packages are already installed.\n",
    "\n",
    "`source /vol/bitbucket/wbai/virt/computer_vision_ubuntu18.04/bin/activate`\n",
    "\n",
    "Alternatively, you can use pip, pip3 or anaconda etc to install Python packages.\n",
    "\n",
    "**Note 1:** please read the both the text and code comment in this notebook to get an idea what you are supposed to implement.\n",
    "\n",
    "**Note 2:** If you are using the virtual environment in the Computing Lab, please run the following command in the command line before opening jupyter-notebook and importing tensorflow. This will tell tensorflow where the Nvidia CUDA libariries are.\n",
    "\n",
    "`export LD_LIBRARY_PATH=/vol/cuda/9.0.176/lib64/:\"${LD_LIBRARY_PATH}}\"` "
   ]
  },
  {
   "cell_type": "code",
   "execution_count": 519,
   "metadata": {},
   "outputs": [],
   "source": [
    "# Import libraries\n",
    "import numpy as np \n",
    "import matplotlib.pyplot as plt\n",
    "%matplotlib inline\n",
    "import tensorflow as tf \n",
    "import keras\n",
    "from keras.models import Sequential\n",
    "from keras.layers import Dense, Dropout\n",
    "from reader import get_images\n",
    "import itertools\n",
    "plt.rcParams[\"figure.figsize\"] = (10,7)"
   ]
  },
  {
   "cell_type": "markdown",
   "metadata": {},
   "source": [
    "## Question 1 (20 points)\n",
    "\n",
    "Throughout this coursework you will be working with the Fashion-MNIST dataset. If you are interested, you may find relevant information regarding the dataset in this paper.\n",
    "\n",
    "[1] Fashion-MNIST: A novel image dataset for benchmarking machine learning algorithms. Han Xiao, Kashif Rasul, Roland Vollgraf. [arXiv:1708.07747](https://arxiv.org/abs/1708.07747)\n",
    "\n",
    "Be sure that you have the following files in your working directory: data.tar.gz and reader.py. Loading the data can be done as follows:\n",
    "\n",
    "`from reader import get_images\n",
    "(x_train, y_train), (x_test, y_test) = get_images()`\n",
    "\n",
    "The dataset is already split into a set of 60,000 training images and a set of 10,000 test images. The images are of size 28x28 pixels and stored as 784-D vector. So if you would like to visualise the images, you need to reshape the array.\n",
    "\n",
    "There are in total 10 label classes, which are:\n",
    "* 0: T-shirt/top\n",
    "* 1: Trousers\n",
    "* 2: Pullover\n",
    "* 3: Dress\n",
    "* 4: Coat\n",
    "* 5: Sandal\n",
    "* 6: Shirt\n",
    "* 7: Sneaker\n",
    "* 8: Bag\n",
    "* 9: Ankle boot"
   ]
  },
  {
   "cell_type": "markdown",
   "metadata": {},
   "source": [
    "### 1.1 Load data (6 points)\n",
    "Load the dataset and print the dimensions of the training set and the test set."
   ]
  },
  {
   "cell_type": "code",
   "execution_count": 520,
   "metadata": {},
   "outputs": [],
   "source": [
    "(x_train, y_train), (x_test, y_test) = get_images()\n"
   ]
  },
  {
   "cell_type": "code",
   "execution_count": 521,
   "metadata": {},
   "outputs": [
    {
     "name": "stdout",
     "output_type": "stream",
     "text": [
      "Training Set - shape of x : (60000, 784)  - shape of y : (60000,) \n",
      "Test Set     - shape of x : (10000, 784)  - shape of y : (10000,) \n",
      "\n",
      "Each image has 784 features\n"
     ]
    }
   ],
   "source": [
    "print(\"Training Set - shape of x : {}  - shape of y : {} \".format(np.shape(x_train) ,np.shape(y_train)))\n",
    "print(\"Test Set     - shape of x : {}  - shape of y : {} \".format(np.shape(x_test) ,np.shape(y_test)))\n",
    "N_train = len(y_train)\n",
    "N_test = len(y_test)\n",
    "N_features = np.shape(x_train)[1]\n",
    "S_image = int(np.sqrt(N_features))\n",
    "print(\"\\nEach image has {} features\".format(N_features))\n"
   ]
  },
  {
   "cell_type": "code",
   "execution_count": 522,
   "metadata": {},
   "outputs": [],
   "source": [
    "classes = np.array([\"T-shirt/top\",\"Trousers\",\"Pullover\",\"Dress\",\"Coat\",\"Sandal\",\"Shirt\",\"Sneaker\",\"Bag\",\"Ankle boot\"])"
   ]
  },
  {
   "cell_type": "markdown",
   "metadata": {},
   "source": [
    "### 1.2 Visualize data (6 points)\n",
    "Visualise 3 training images (T-shirt, trousers and pullover) and 3 test images (dress, coat and sandal)."
   ]
  },
  {
   "cell_type": "code",
   "execution_count": 527,
   "metadata": {},
   "outputs": [],
   "source": [
    "# Labels wanted for each set\n",
    "y_disp_train = [0,1,2]\n",
    "y_disp_test = [3,4,5]\n",
    "\n",
    "# Masks of the images for each label\n",
    "m_disp_train =[y_train == y_disp_train[i] for i in range(len(y_disp_train))]\n",
    "m_disp_test =[y_test == y_disp_test[i] for i in range(len(y_disp_test))]\n",
    "\n",
    "# Indexes of the images for each label\n",
    "i_temp_train = np.array(range(N_train))\n",
    "i_temp_test = np.array(range(N_test))\n",
    "i_all_train = [i_temp_train[m_disp_train[i]] for i in range(len(y_disp_train))]\n",
    "i_all_test = [i_temp_test[m_disp_test[i]] for i in range(len(y_disp_test))]\n",
    "\n",
    "# Choice of the Index of each label :\n",
    "i_disp_train = [np.random.choice(i_all_train[i]) for i in range(len(y_disp_train))]\n",
    "i_disp_test = [np.random.choice(i_all_test[i]) for i in range(len(y_disp_test))]"
   ]
  },
  {
   "cell_type": "code",
   "execution_count": 528,
   "metadata": {
    "scrolled": false
   },
   "outputs": [
    {
     "name": "stdout",
     "output_type": "stream",
     "text": [
      "The indexes of the training image we are displaying is : [27976, 42781, 35921]\n",
      "The indexes of the test image we are displaying is : [7105, 9894, 1092]\n"
     ]
    }
   ],
   "source": [
    "print(\"The indexes of the training image we are displaying is : {}\".format(i_disp_train))\n",
    "print(\"The indexes of the test image we are displaying is : {}\".format(i_disp_test))"
   ]
  },
  {
   "cell_type": "code",
   "execution_count": 529,
   "metadata": {},
   "outputs": [],
   "source": [
    "def plot_image(X):\n",
    "    plt.imshow(np.reshape(X,(S_image,S_image)), cmap='gray')"
   ]
  },
  {
   "cell_type": "code",
   "execution_count": 530,
   "metadata": {},
   "outputs": [
    {
     "data": {
      "image/png": "[encoded data removed]",
      "text/plain": [
       "<Figure size 720x504 with 3 Axes>"
      ]
     },
     "metadata": {
      "needs_background": "light"
     },
     "output_type": "display_data"
    },
    {
     "data": {
      "image/png": "[encoded data removed]",
      "text/plain": [
       "<Figure size 720x504 with 3 Axes>"
      ]
     },
     "metadata": {
      "needs_background": "light"
     },
     "output_type": "display_data"
    }
   ],
   "source": [
    "plt.figure()\n",
    "plt.subplot(131)\n",
    "plot_image(x_train[i_disp_train[0]])\n",
    "plt.subplot(132)\n",
    "plot_image(x_train[i_disp_train[1]])\n",
    "plt.subplot(133)\n",
    "plot_image(x_train[i_disp_train[2]])\n",
    "\n",
    "plt.figure()\n",
    "\n",
    "plt.subplot(131)\n",
    "plot_image(x_test[i_disp_test[0]])\n",
    "plt.subplot(132)\n",
    "plot_image(x_test[i_disp_test[1]])\n",
    "plt.subplot(133)\n",
    "plot_image(x_test[i_disp_test[2]])\n"
   ]
  },
  {
   "cell_type": "markdown",
   "metadata": {},
   "source": [
    "### 1.3 Data balance (4 points)\n",
    "Print out the number of training samples for each class."
   ]
  },
  {
   "cell_type": "code",
   "execution_count": 532,
   "metadata": {},
   "outputs": [
    {
     "name": "stdout",
     "output_type": "stream",
     "text": [
      "The number of samples per label is : [6000, 6000, 6000, 6000, 6000, 6000, 6000, 6000, 6000, 6000]\n"
     ]
    },
    {
     "data": {
      "text/plain": [
       "<BarContainer object of 10 artists>"
      ]
     },
     "execution_count": 532,
     "metadata": {},
     "output_type": "execute_result"
    },
    {
     "data": {
      "image/png": "[encoded data removed]",
      "text/plain": [
       "<Figure size 720x504 with 1 Axes>"
      ]
     },
     "metadata": {
      "needs_background": "light"
     },
     "output_type": "display_data"
    }
   ],
   "source": [
    "y_balance = list(range(10))\n",
    "m_balance =[y_train == y_balance[i] for i in range(len(y_balance))]\n",
    "i_temp_train = np.array(range(N_train))\n",
    "i_balance = [i_temp_train[m_balance[i]] for i in range(len(y_balance))]\n",
    "n_samples_balance = [len(i_balance[i]) for i in range(len(y_balance))]\n",
    "print(\"The number of samples per label is : {}\".format(n_samples_balance))\n",
    "\n",
    "plt.bar(classes,n_samples_balance)"
   ]
  },
  {
   "cell_type": "markdown",
   "metadata": {},
   "source": [
    "### 1.4 Discussion (4 points)\n",
    "Is the dataset balanced? What would happen if the dataset is not balanced in the context of image classification? "
   ]
  },
  {
   "cell_type": "markdown",
   "metadata": {},
   "source": [
    "**Answer** : As we can see the training dataset is perfectly balanced between labels. Each of the labels has 6000 samples. In the context of image classification, this is really important because an unbalanced dataset would lead to biased results. For example if there were much more sneakers, the training would recognised a lot more sneakers that its supposed to do in the test set. "
   ]
  },
  {
   "cell_type": "markdown",
   "metadata": {},
   "source": [
    "## Question 2 (40 points)\n",
    "\n",
    "Build a neural network and train it with the Fashion-MNIST dataset. Here, we use the keras library, which is a high-level neural network library built upon tensorflow."
   ]
  },
  {
   "cell_type": "code",
   "execution_count": 126,
   "metadata": {},
   "outputs": [],
   "source": [
    "# Convert the label class into a one-hot representation\n",
    "num_classes = len(y_balance)\n",
    "y_train = keras.utils.to_categorical(y_train, num_classes)\n",
    "y_test = keras.utils.to_categorical(y_test, num_classes)"
   ]
  },
  {
   "cell_type": "markdown",
   "metadata": {},
   "source": [
    "### 2.1 Build a multi-layer perceptron, also known as multi-layer fully connected network. You need to define the layers, the loss function, the optimiser and evaluation metric. (30 points)"
   ]
  },
  {
   "cell_type": "code",
   "execution_count": 196,
   "metadata": {},
   "outputs": [
    {
     "name": "stdout",
     "output_type": "stream",
     "text": [
      "_________________________________________________________________\n",
      "Layer (type)                 Output Shape              Param #   \n",
      "=================================================================\n",
      "dense_36 (Dense)             (None, 512)               401920    \n",
      "_________________________________________________________________\n",
      "dense_37 (Dense)             (None, 512)               262656    \n",
      "_________________________________________________________________\n",
      "dense_38 (Dense)             (None, 10)                5130      \n",
      "=================================================================\n",
      "Total params: 669,706\n",
      "Trainable params: 669,706\n",
      "Non-trainable params: 0\n",
      "_________________________________________________________________\n",
      "None\n"
     ]
    }
   ],
   "source": [
    "model = Sequential()\n",
    "model.add(Dense(512, activation='relu', input_shape=(784,)))\n",
    "model.add(Dense(512, activation='relu'))\n",
    "model.add(Dense(num_classes, activation='softmax'))\n",
    "\n",
    "\n",
    "model.compile(loss='categorical_crossentropy', optimizer='sgd', metrics=['accuracy'])\n",
    "print(model.summary())"
   ]
  },
  {
   "cell_type": "markdown",
   "metadata": {},
   "source": [
    "### 2.2 Define the optimisation parameters including the batch size and the number of epochs and then run the optimiser. (10 points)\n",
    "\n",
    "We have tested that for an appropriate network architecture, on a personal laptop and with only CPU, it takes about a few seconds per epoch to train the network. For 100 epochs, it takes about a coffee break's time to finish the training. If you run it on a powerful GPU, it would be even much faster."
   ]
  },
  {
   "cell_type": "code",
   "execution_count": 198,
   "metadata": {
    "scrolled": true
   },
   "outputs": [
    {
     "name": "stdout",
     "output_type": "stream",
     "text": [
      "Epoch 1/100\n",
      "60000/60000 [==============================] - 3s 52us/step - loss: 11.1183 - acc: 0.3086\n",
      "Epoch 2/100\n",
      "60000/60000 [==============================] - 3s 52us/step - loss: 10.1363 - acc: 0.3687\n",
      "Epoch 3/100\n",
      "60000/60000 [==============================] - 3s 52us/step - loss: 10.0294 - acc: 0.3753\n",
      "Epoch 4/100\n",
      "60000/60000 [==============================] - 3s 52us/step - loss: 10.0304 - acc: 0.3751\n",
      "Epoch 5/100\n",
      "60000/60000 [==============================] - 3s 52us/step - loss: 9.9634 - acc: 0.3795\n",
      "Epoch 6/100\n",
      "60000/60000 [==============================] - 3s 53us/step - loss: 9.9556 - acc: 0.3800\n",
      "Epoch 7/100\n",
      "60000/60000 [==============================] - 3s 53us/step - loss: 8.0342 - acc: 0.4966\n",
      "Epoch 8/100\n",
      "60000/60000 [==============================] - 3s 53us/step - loss: 7.1966 - acc: 0.5486\n",
      "Epoch 9/100\n",
      "60000/60000 [==============================] - 3s 53us/step - loss: 7.0593 - acc: 0.5573\n",
      "Epoch 10/100\n",
      "60000/60000 [==============================] - 3s 54us/step - loss: 6.6445 - acc: 0.5810\n",
      "Epoch 11/100\n",
      "60000/60000 [==============================] - 3s 55us/step - loss: 5.7592 - acc: 0.6326\n",
      "Epoch 12/100\n",
      "60000/60000 [==============================] - 3s 53us/step - loss: 5.0835 - acc: 0.6728\n",
      "Epoch 13/100\n",
      "60000/60000 [==============================] - 3s 53us/step - loss: 4.8980 - acc: 0.6835\n",
      "Epoch 14/100\n",
      "60000/60000 [==============================] - 3s 53us/step - loss: 4.7173 - acc: 0.6944\n",
      "Epoch 15/100\n",
      "60000/60000 [==============================] - 3s 53us/step - loss: 4.6832 - acc: 0.6916\n",
      "Epoch 16/100\n",
      "60000/60000 [==============================] - 3s 53us/step - loss: 4.3878 - acc: 0.7027\n",
      "Epoch 17/100\n",
      "60000/60000 [==============================] - 3s 53us/step - loss: 3.2192 - acc: 0.7446\n",
      "Epoch 18/100\n",
      "60000/60000 [==============================] - 3s 54us/step - loss: 0.8770 - acc: 0.7991\n",
      "Epoch 19/100\n",
      "60000/60000 [==============================] - 3s 54us/step - loss: 0.6583 - acc: 0.8175\n",
      "Epoch 20/100\n",
      "60000/60000 [==============================] - 3s 53us/step - loss: 0.5520 - acc: 0.8355\n",
      "Epoch 21/100\n",
      "60000/60000 [==============================] - 3s 51us/step - loss: 0.5109 - acc: 0.8439\n",
      "Epoch 22/100\n",
      "60000/60000 [==============================] - 3s 50us/step - loss: 0.4575 - acc: 0.8542\n",
      "Epoch 23/100\n",
      "60000/60000 [==============================] - 3s 51us/step - loss: 0.4261 - acc: 0.8610\n",
      "Epoch 24/100\n",
      "60000/60000 [==============================] - 3s 51us/step - loss: 0.3991 - acc: 0.8671: 0s - loss: 0.3996 - acc: 0.86\n",
      "Epoch 25/100\n",
      "60000/60000 [==============================] - 3s 50us/step - loss: 0.3763 - acc: 0.8756\n",
      "Epoch 26/100\n",
      "60000/60000 [==============================] - 3s 50us/step - loss: 0.3597 - acc: 0.8793\n",
      "Epoch 27/100\n",
      "60000/60000 [==============================] - 3s 50us/step - loss: 0.3480 - acc: 0.8817\n",
      "Epoch 28/100\n",
      "60000/60000 [==============================] - 3s 49us/step - loss: 0.3229 - acc: 0.8897\n",
      "Epoch 29/100\n",
      "60000/60000 [==============================] - 3s 49us/step - loss: 0.3203 - acc: 0.8895\n",
      "Epoch 30/100\n",
      "60000/60000 [==============================] - 3s 49us/step - loss: 0.3094 - acc: 0.8940\n",
      "Epoch 31/100\n",
      "60000/60000 [==============================] - 3s 51us/step - loss: 0.3021 - acc: 0.8953\n",
      "Epoch 32/100\n",
      "60000/60000 [==============================] - 3s 50us/step - loss: 0.2932 - acc: 0.8996\n",
      "Epoch 33/100\n",
      "60000/60000 [==============================] - 3s 49us/step - loss: 0.2805 - acc: 0.9034\n",
      "Epoch 34/100\n",
      "60000/60000 [==============================] - 3s 50us/step - loss: 0.2732 - acc: 0.9058\n",
      "Epoch 35/100\n",
      "60000/60000 [==============================] - 3s 50us/step - loss: 0.2675 - acc: 0.9084\n",
      "Epoch 36/100\n",
      "60000/60000 [==============================] - 3s 49us/step - loss: 0.2603 - acc: 0.9108\n",
      "Epoch 37/100\n",
      "60000/60000 [==============================] - 3s 49us/step - loss: 0.2541 - acc: 0.9148\n",
      "Epoch 38/100\n",
      "60000/60000 [==============================] - 3s 51us/step - loss: 0.2488 - acc: 0.9147\n",
      "Epoch 39/100\n",
      "60000/60000 [==============================] - 4s 58us/step - loss: 0.2474 - acc: 0.9155\n",
      "Epoch 40/100\n",
      "60000/60000 [==============================] - 3s 54us/step - loss: 0.2391 - acc: 0.9184\n",
      "Epoch 41/100\n",
      "60000/60000 [==============================] - 3s 56us/step - loss: 0.2425 - acc: 0.9173\n",
      "Epoch 42/100\n",
      "60000/60000 [==============================] - 3s 56us/step - loss: 0.2331 - acc: 0.9210\n",
      "Epoch 43/100\n",
      "60000/60000 [==============================] - 3s 55us/step - loss: 0.2292 - acc: 0.9222\n",
      "Epoch 44/100\n",
      "60000/60000 [==============================] - 3s 55us/step - loss: 0.2213 - acc: 0.9260\n",
      "Epoch 45/100\n",
      "60000/60000 [==============================] - 3s 55us/step - loss: 0.2186 - acc: 0.9262\n",
      "Epoch 46/100\n",
      "60000/60000 [==============================] - 3s 56us/step - loss: 0.2190 - acc: 0.9261\n",
      "Epoch 47/100\n",
      "60000/60000 [==============================] - 3s 55us/step - loss: 0.2144 - acc: 0.9284\n",
      "Epoch 48/100\n",
      "60000/60000 [==============================] - 4s 63us/step - loss: 0.2096 - acc: 0.9298\n",
      "Epoch 49/100\n",
      "60000/60000 [==============================] - 3s 58us/step - loss: 0.2062 - acc: 0.9311\n",
      "Epoch 50/100\n",
      "60000/60000 [==============================] - 3s 58us/step - loss: 0.2072 - acc: 0.9308\n",
      "Epoch 51/100\n",
      "60000/60000 [==============================] - 3s 57us/step - loss: 0.2031 - acc: 0.9319\n",
      "Epoch 52/100\n",
      "60000/60000 [==============================] - 3s 58us/step - loss: 0.1960 - acc: 0.9349\n",
      "Epoch 53/100\n",
      "60000/60000 [==============================] - 4s 60us/step - loss: 0.1955 - acc: 0.9348\n",
      "Epoch 54/100\n",
      "60000/60000 [==============================] - 4s 60us/step - loss: 0.1948 - acc: 0.9360\n",
      "Epoch 55/100\n",
      "60000/60000 [==============================] - 3s 58us/step - loss: 0.1928 - acc: 0.9363\n",
      "Epoch 56/100\n",
      "60000/60000 [==============================] - 3s 56us/step - loss: 0.1905 - acc: 0.9366\n",
      "Epoch 57/100\n",
      "60000/60000 [==============================] - 3s 58us/step - loss: 0.1873 - acc: 0.9376\n",
      "Epoch 58/100\n",
      "60000/60000 [==============================] - 4s 60us/step - loss: 0.1849 - acc: 0.9394\n",
      "Epoch 59/100\n",
      "60000/60000 [==============================] - 4s 60us/step - loss: 0.1826 - acc: 0.9397\n",
      "Epoch 60/100\n",
      "60000/60000 [==============================] - 3s 57us/step - loss: 0.1811 - acc: 0.9412\n",
      "Epoch 61/100\n",
      "60000/60000 [==============================] - 3s 55us/step - loss: 0.1788 - acc: 0.9415\n",
      "Epoch 62/100\n",
      "60000/60000 [==============================] - 3s 55us/step - loss: 0.1807 - acc: 0.9408\n",
      "Epoch 63/100\n",
      "60000/60000 [==============================] - 3s 55us/step - loss: 0.1804 - acc: 0.9407\n",
      "Epoch 64/100\n",
      "60000/60000 [==============================] - 4s 61us/step - loss: 0.1711 - acc: 0.9445: 0s - loss: 0.1678\n",
      "Epoch 65/100\n",
      "60000/60000 [==============================] - 4s 60us/step - loss: 0.1797 - acc: 0.9409\n",
      "Epoch 66/100\n",
      "60000/60000 [==============================] - 4s 61us/step - loss: 0.1683 - acc: 0.9457: 1s - loss\n",
      "Epoch 67/100\n",
      "60000/60000 [==============================] - 4s 63us/step - loss: 0.1707 - acc: 0.9449\n",
      "Epoch 68/100\n",
      "60000/60000 [==============================] - 4s 59us/step - loss: 0.1661 - acc: 0.9471\n",
      "Epoch 69/100\n",
      "60000/60000 [==============================] - 4s 60us/step - loss: 0.1658 - acc: 0.9469\n",
      "Epoch 70/100\n",
      "60000/60000 [==============================] - 4s 63us/step - loss: 0.1641 - acc: 0.9467\n",
      "Epoch 71/100\n",
      "60000/60000 [==============================] - 4s 65us/step - loss: 0.1638 - acc: 0.9476\n",
      "Epoch 72/100\n",
      "60000/60000 [==============================] - 4s 61us/step - loss: 0.1607 - acc: 0.9488\n",
      "Epoch 73/100\n",
      "60000/60000 [==============================] - 4s 59us/step - loss: 0.1553 - acc: 0.9502\n",
      "Epoch 74/100\n",
      "60000/60000 [==============================] - 3s 56us/step - loss: 0.1606 - acc: 0.9483\n",
      "Epoch 75/100\n",
      "60000/60000 [==============================] - 3s 56us/step - loss: 0.1571 - acc: 0.9492\n",
      "Epoch 76/100\n",
      "60000/60000 [==============================] - 4s 60us/step - loss: 0.1531 - acc: 0.9517\n",
      "Epoch 77/100\n",
      "60000/60000 [==============================] - 4s 60us/step - loss: 0.1531 - acc: 0.9506\n",
      "Epoch 78/100\n",
      "60000/60000 [==============================] - 4s 62us/step - loss: 0.1550 - acc: 0.9505\n",
      "Epoch 79/100\n",
      "60000/60000 [==============================] - 4s 61us/step - loss: 0.1491 - acc: 0.9533\n",
      "Epoch 80/100\n",
      "60000/60000 [==============================] - 3s 52us/step - loss: 0.1454 - acc: 0.9546\n",
      "Epoch 81/100\n",
      "60000/60000 [==============================] - 3s 52us/step - loss: 0.1443 - acc: 0.9552\n",
      "Epoch 82/100\n",
      "60000/60000 [==============================] - 3s 54us/step - loss: 0.1458 - acc: 0.9540\n",
      "Epoch 83/100\n",
      "60000/60000 [==============================] - 4s 60us/step - loss: 0.1436 - acc: 0.9545\n",
      "Epoch 84/100\n",
      "60000/60000 [==============================] - 4s 60us/step - loss: 0.1439 - acc: 0.9543\n",
      "Epoch 85/100\n",
      "60000/60000 [==============================] - 3s 53us/step - loss: 0.1411 - acc: 0.9563\n",
      "Epoch 86/100\n",
      "60000/60000 [==============================] - 3s 49us/step - loss: 0.1393 - acc: 0.9568\n",
      "Epoch 87/100\n",
      "60000/60000 [==============================] - 3s 49us/step - loss: 0.1395 - acc: 0.9566\n",
      "Epoch 88/100\n",
      "60000/60000 [==============================] - 3s 49us/step - loss: 0.1369 - acc: 0.9580: 1s - loss: 0.\n",
      "Epoch 89/100\n",
      "60000/60000 [==============================] - 3s 49us/step - loss: 0.1370 - acc: 0.9579\n",
      "Epoch 90/100\n",
      "60000/60000 [==============================] - 3s 49us/step - loss: 0.1385 - acc: 0.9559\n",
      "Epoch 91/100\n",
      "60000/60000 [==============================] - 3s 49us/step - loss: 0.1404 - acc: 0.9558: 0s - loss: 0.1400 - acc: 0.956\n",
      "Epoch 92/100\n",
      "60000/60000 [==============================] - 3s 48us/step - loss: 0.1333 - acc: 0.9594\n",
      "Epoch 93/100\n",
      "60000/60000 [==============================] - 3s 49us/step - loss: 0.1398 - acc: 0.9561\n",
      "Epoch 94/100\n",
      "60000/60000 [==============================] - 3s 49us/step - loss: 0.1295 - acc: 0.9610\n",
      "Epoch 95/100\n",
      "60000/60000 [==============================] - 3s 50us/step - loss: 0.1312 - acc: 0.9602\n",
      "Epoch 96/100\n",
      "60000/60000 [==============================] - 4s 60us/step - loss: 0.1273 - acc: 0.9615\n",
      "Epoch 97/100\n",
      "60000/60000 [==============================] - 3s 56us/step - loss: 0.1261 - acc: 0.9620\n",
      "Epoch 98/100\n",
      "60000/60000 [==============================] - 3s 57us/step - loss: 0.1300 - acc: 0.9603\n",
      "Epoch 99/100\n",
      "60000/60000 [==============================] - 3s 57us/step - loss: 0.1274 - acc: 0.9617\n",
      "Epoch 100/100\n",
      "60000/60000 [==============================] - 3s 57us/step - loss: 0.1269 - acc: 0.9613\n"
     ]
    },
    {
     "data": {
      "text/plain": [
       "<keras.callbacks.History at 0xb2fcc05f8>"
      ]
     },
     "execution_count": 198,
     "metadata": {},
     "output_type": "execute_result"
    }
   ],
   "source": [
    "batch_size = 1000\n",
    "epochs = 100\n",
    "model.fit(x_train, y_train,\n",
    "          epochs=epochs,\n",
    "          batch_size=batch_size)"
   ]
  },
  {
   "cell_type": "markdown",
   "metadata": {},
   "source": [
    "## Question 3 (20 points) \n",
    "\n",
    "Evaluate the performance of your network with the test data. \n",
    "Visualize the performance using appropriate metrics and graphs (eg. confusion matrix). \n",
    "Comment on your per class performance and how it could be better."
   ]
  },
  {
   "cell_type": "code",
   "execution_count": 401,
   "metadata": {},
   "outputs": [],
   "source": [
    "# This function is provided for you to display the confusion matrix.\n",
    "# For more information about the confusion matrix, you can read at\n",
    "# https://en.wikipedia.org/wiki/Confusion_matrix\n",
    "def plot_confusion_matrix(cm, classes, normalize=False, title='Confusion matrix', cmap=plt.cm.Oranges):\n",
    "    \"\"\"\n",
    "        This function prints and plots the confusion matrix.\n",
    "        \n",
    "        cm: confusion matrix, default to be np.int32 data type\n",
    "        classes: a list of the class labels or class names\n",
    "        normalize: normalize the matrix so that each row amounts to one\n",
    "        cmap: color map\n",
    "    \"\"\"\n",
    "    if normalize:\n",
    "        cm = cm.astype('float') / cm.sum(axis=1)[:, np.newaxis]\n",
    "        print(\"Normalized confusion matrix\")\n",
    "    else:\n",
    "        print('Confusion matrix, without normalization')\n",
    "    print(cm)\n",
    "\n",
    "    plt.imshow(cm, interpolation='nearest', cmap=cmap)\n",
    "    plt.title(title)\n",
    "    plt.colorbar()\n",
    "    tick_marks = np.arange(len(classes))\n",
    "    plt.xticks(tick_marks, classes, rotation=45)\n",
    "    plt.yticks(tick_marks, classes)\n",
    "\n",
    "    fmt = '.2f' if normalize else 'd'\n",
    "    thresh = cm.max() / 2.\n",
    "    for i, j in itertools.product(range(cm.shape[0]), range(cm.shape[1])):\n",
    "        plt.text(j, i, format(cm[i, j], fmt),\n",
    "                 horizontalalignment=\"center\",\n",
    "                 color=\"white\" if cm[i, j] > thresh else \"black\")\n",
    "    plt.ylabel('True label')\n",
    "    plt.xlabel('Predicted label')\n",
    "    plt.tight_layout()"
   ]
  },
  {
   "cell_type": "markdown",
   "metadata": {},
   "source": [
    "### 3.1 Evaluate the classification accuracy on the test set (10 points)"
   ]
  },
  {
   "cell_type": "code",
   "execution_count": 402,
   "metadata": {},
   "outputs": [
    {
     "name": "stdout",
     "output_type": "stream",
     "text": [
      "10000/10000 [==============================] - 0s 27us/step\n",
      "Test loss: 0.6631677290797233\n",
      "Test accuracy: 0.8639000055193901\n"
     ]
    }
   ],
   "source": [
    "score = model.evaluate(x_test, y_test, batch_size=150)\n",
    "print('Test loss:', score[0])\n",
    "print('Test accuracy:', score[1])"
   ]
  },
  {
   "cell_type": "markdown",
   "metadata": {},
   "source": [
    "### 3.2 Calculate and plot the confusion matrix (10 points)"
   ]
  },
  {
   "cell_type": "code",
   "execution_count": 496,
   "metadata": {},
   "outputs": [
    {
     "name": "stdout",
     "output_type": "stream",
     "text": [
      "Confusion matrix, without normalization\n",
      "[[842   1  14  23   4   0  82   0   8   0]\n",
      " [  1 971   3  16   3   0   3   0   1   0]\n",
      " [ 22   2 772   6 104   1  45   0   6   0]\n",
      " [ 35  15   9 855  36   1  18   0   4   1]\n",
      " [  2   1 107  32 798   0  21   0   4   0]\n",
      " [  1   0   1   2   0 944   1  31   5  13]\n",
      " [164   1  96  30 117   0 518   0  14   0]\n",
      " [  0   0   0   0   0  23   0 944   1  32]\n",
      " [  4   0   4   5   2   3  10   5 962   0]\n",
      " [  0   0   0   0   0  11   1  36   0 952]]\n"
     ]
    },
    {
     "data": {
      "image/png": "[encoded data removed]",
      "text/plain": [
       "<Figure size 720x504 with 2 Axes>"
      ]
     },
     "metadata": {
      "needs_background": "light"
     },
     "output_type": "display_data"
    }
   ],
   "source": [
    "y_pred = np.round(model.predict(x_test, batch_size=150))\n",
    "\n",
    "def my_confusion_matrix(y_pred,y_test):\n",
    "    \n",
    "    cm = np.zeros((np.shape(y_test)[1],np.shape(y_test)[1])) \n",
    "    for i in range(np.shape(y_test)[1]):\n",
    "        \n",
    "        for j in range(np.shape(y_test)[1]):\n",
    "            cm[i,j]= np.sum(y_pred[:,j] * y_test[:,i])\n",
    "            cm[j,i]= np.sum(y_pred[:,i] * y_test[:,j])\n",
    "    #print(cm)\n",
    "    return cm.astype(int)\n",
    "#my_confusion_matrix(y_pred,y_test);\n",
    "plot_confusion_matrix(my_confusion_matrix(y_pred,y_test),classes)"
   ]
  },
  {
   "cell_type": "markdown",
   "metadata": {},
   "source": [
    "## Question 4 (20 points)\n",
    "Take two photos, one of your clothes or shoes that belongs to one of 10 classes, the other that does not belong to any class.\n",
    "\n",
    "Use either Python or other software (Photoshop, Gimp, or any image editer) to convert the photos into grayscale, crop the region of interest and reshape into the size of 28x28.\n",
    "\n",
    "### 4.1 Load and visualise your own images (6 points)"
   ]
  },
  {
   "cell_type": "code",
   "execution_count": 513,
   "metadata": {},
   "outputs": [
    {
     "data": {
      "image/png": "[encoded data removed]",
      "text/plain": [
       "<Figure size 720x504 with 2 Axes>"
      ]
     },
     "metadata": {
      "needs_background": "light"
     },
     "output_type": "display_data"
    }
   ],
   "source": [
    "import imageio\n",
    "\n",
    "# Function to load images\n",
    "def load_own_image(path,invert):\n",
    "    ''' This function loads the pictures grayscale pictures, \n",
    "    selecteds one color channel, print it and \n",
    "    and invert them if necessary\n",
    "    '''\n",
    "    \n",
    "    image = imageio.imread(path)\n",
    "    image = image[:,:,0]\n",
    "\n",
    "    image = np.reshape(image,(N_features,)).astype(int).transpose()\n",
    "\n",
    "    if invert: # inverting image (black background)\n",
    "        image = 255 - np.array(image)\n",
    "\n",
    "    plt.imshow(np.reshape(image,(S_image,S_image)), cmap='gray')\n",
    "    return image.tolist()\n",
    "\n",
    "# Loading Pictures : \n",
    "plt.figure()\n",
    "x_mytest = []\n",
    "\n",
    "# Picture 1 : a red dress (in the classes)\n",
    "plt.subplot(121)\n",
    "x_mytest.append( load_own_image('myPictures/dress2.jpeg',True))\n",
    "\n",
    "# Picture 2 : \n",
    "plt.subplot(122)\n",
    "x_mytest.append( load_own_image('myPictures/casquette.jpeg',True));\n",
    "\n",
    "x_mytest = np.array(x_mytest)"
   ]
  },
  {
   "cell_type": "markdown",
   "metadata": {},
   "source": [
    "### 4.2 Test your network on the two images and show the classification results (10 points)"
   ]
  },
  {
   "cell_type": "code",
   "execution_count": 514,
   "metadata": {},
   "outputs": [
    {
     "name": "stdout",
     "output_type": "stream",
     "text": [
      "The First Image is classified as a : Dress\n",
      "The Second Image is classified as a : Sneaker\n"
     ]
    }
   ],
   "source": [
    "y_mytest_pred = np.round(model.predict(x_mytest)).astype(int)\n",
    "print(\"The First Image is classified as a : {}\".format(classes[y_mytest_pred[0,:]==1][0]))\n",
    "print(\"The Second Image is classified as a : {}\".format(classes[y_mytest_pred[1,:]==1][0]))\n"
   ]
  },
  {
   "cell_type": "markdown",
   "metadata": {},
   "source": [
    "### 4.3 Discuss the classification results and provide one method to improve real life performance of the network (4 points)"
   ]
  },
  {
   "cell_type": "markdown",
   "metadata": {},
   "source": [
    "**Answer** : The classification works quite well in the case where the image class is known. In the case where the label is unknown, the neuronal network fails to classify it properly.\n",
    "\n",
    "We can observe with the confusion matrix that the classification already works very well, at the expection of the shirt class which has a lot of false negative. This is due to the high resemblance between shirts, T-shirts, Coats and Pullover. \n",
    "\n",
    "In order to improve the performance of the network, we could have chosen higher defintion images, increased the number of classes, or set slightly different neuronal network as the results for the test set is of 86% only (compared to the 96% on the test set). We could have impelemted a crossvalidation to test various parameters. "
   ]
  },
  {
   "cell_type": "markdown",
   "metadata": {},
   "source": [
    "## 5. Survey\n",
    "How long did the coursework take you to solve? "
   ]
  },
  {
   "cell_type": "markdown",
   "metadata": {},
   "source": [
    "3.5 hours"
   ]
  },
  {
   "cell_type": "code",
   "execution_count": null,
   "metadata": {},
   "outputs": [],
   "source": []
  }
 ],
 "metadata": {
  "kernelspec": {
   "display_name": "Python [conda env:ic_std]",
   "language": "python",
   "name": "conda-env-ic_std-py"
  },
  "language_info": {
   "codemirror_mode": {
    "name": "ipython",
    "version": 3
   },
   "file_extension": ".py",
   "mimetype": "text/x-python",
   "name": "python",
   "nbconvert_exporter": "python",
   "pygments_lexer": "ipython3",
   "version": "3.6.6"
  }
 },
 "nbformat": 4,
 "nbformat_minor": 2
}
